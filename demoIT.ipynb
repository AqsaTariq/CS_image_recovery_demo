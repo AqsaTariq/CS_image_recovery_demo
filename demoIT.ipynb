{
 "cells": [
  {
   "cell_type": "markdown",
   "metadata": {},
   "source": [
    "## Reconstructing images from few pixels"
   ]
  },
  {
   "cell_type": "code",
   "execution_count": null,
   "metadata": {},
   "outputs": [],
   "source": [
    "from pit import *\n",
    "\n",
    "# packages for reading the image\n",
    "import scipy.ndimage as spimg\n",
    "from scipy.misc import imsave\n",
    "import glob\n",
    "import os\n",
    "\n",
    "\n",
    "### ===============================================\n",
    "### ---------- set image folder -------------------\n",
    "folder = \"/Users/Martin/Pictures/Camera Roll/\"\n",
    "### -----------------------------------------------\n",
    "\n",
    "# all jpg files in folder\n",
    "list_camera_pics = glob.glob(folder+'*.jpg') \n",
    "# file name of latest one\n",
    "pic_file = max(list_camera_pics, key=os.path.getctime) \n",
    "\n",
    "### -----------------------------------------------\n",
    "### ---- OR choose picture from the repository ----\n",
    "pic_file = \"./pics/marie_curie.jpg\"\n",
    "### ===============================================\n",
    "\n",
    "\n",
    "# read image\n",
    "Xorig = spimg.imread(pic_file, flatten=True, mode='L')\n",
    "\n",
    "# pywt can change the size -> easy fix by transforming back and forth\n",
    "x = pywt.wavedec2(Xorig, wavelet='db1', level=1)\n",
    "Xorig = pywt.waverec2(x, wavelet='db1')\n",
    "\n",
    "# picture size\n",
    "shape = Xorig.shape\n",
    "n = np.prod(shape)\n",
    "\n",
    "# choice of WT parameters\n",
    "L = 3\n",
    "amp = np.linspace(1,.5,L)\n",
    "amp = np.kron(amp, np.ones(3) )\n",
    "amp = np.insert(amp,0, 10 ) #prepend (position 0)"
   ]
  },
  {
   "cell_type": "markdown",
   "metadata": {},
   "source": [
    "### A compression test "
   ]
  },
  {
   "cell_type": "code",
   "execution_count": null,
   "metadata": {},
   "outputs": [],
   "source": [
    "## (not necessary for the rest)\n",
    "# choose basis for compression              \n",
    "T = WT(shape, wavelet='db6',level=L, amplify=amp)\n",
    "\n",
    "# hard TO\n",
    "s = int( np.prod(shape)/20 )\n",
    "TO = hardTO(s)\n",
    "\n",
    "# compression test\n",
    "cXorig = compress(T,TO,Xorig)\n",
    "\n",
    "print(\"Original image:\")\n",
    "pltPic(Xorig)\n",
    "\n",
    "print(\"Compressed image (down to {} coefficients out of {}):\".format(s,n) )\n",
    "pltPic(cXorig)"
   ]
  },
  {
   "cell_type": "markdown",
   "metadata": {},
   "source": [
    "### Set number of pixels to keep"
   ]
  },
  {
   "cell_type": "code",
   "execution_count": null,
   "metadata": {},
   "outputs": [],
   "source": [
    "# set relative number of pixels\n",
    "p = .05\n",
    "\n",
    "# total number of pixels\n",
    "m = int(p*n)\n",
    "print(\"Total number of pixels: {}k\".format(int(np.prod(Xorig.shape)/1000)))\n",
    "print(\"Number of remaining pixels: {}k\".format( int(m/1000) ))\n",
    "\n",
    "# generate subsampled picture\n",
    "mask = getRandMask(n, m)\n",
    "Xsub = np.zeros(shape)\n",
    "Xsub.flat[mask] = Xorig.flat[mask]\n",
    "pltPic(Xsub)"
   ]
  },
  {
   "cell_type": "markdown",
   "metadata": {},
   "source": [
    "### Choose parameters and run reconstruction"
   ]
  },
  {
   "cell_type": "code",
   "execution_count": null,
   "metadata": {},
   "outputs": [],
   "source": [
    "steps = 10 #parameter for nr. of steps in fixed basis\n",
    "N = 6 #nr. of switching basises: wt and dct\n",
    "\n",
    "# soft thresholding parameters\n",
    "\n",
    "# # adjusted to p = .2\n",
    "# taus_wt = np.linspace(12,4,N)\n",
    "# taus_dct = np.linspace(8,3.25,N)\n",
    "\n",
    "# # adjusted to p = .1\n",
    "# taus_wt = np.linspace(15,7,N)\n",
    "# taus_dct = np.linspace(10,5,N)\n",
    "\n",
    "# adjusted to p = .05\n",
    "taus_wt = np.linspace(25,6,N)\n",
    "taus_dct = np.linspace(15,9,N)\n",
    "\n",
    "# # adjusted to p = .02\n",
    "# taus_wt = np.linspace(24,16,N)\n",
    "# taus_dct = np.linspace(19,17.5,N)\n",
    "\n",
    "\n",
    "# set initial guess for the reconstruction\n",
    "if 'Xrec' not in locals():\n",
    "    Xrec = Xsub\n",
    "    \n",
    "# Xrec = Xsub\n",
    "    \n",
    "# set transformations\n",
    "dct = DCT(shape)\n",
    "wt = WT(shape, wavelet='db6',level=L, amplify=amp)\n",
    "\n",
    "for j in range(N):\n",
    "#     Xrec = Xsub\n",
    "    thOp = softTO(taus_dct[j])\n",
    "#     print('DCT (tau = {}):'.format(taus_dct[j]), end = ' ')\n",
    "    Xrec=estimate(dct, thOp, mask, Xsub, n_steps=steps, Xorig = Xorig, X0=Xrec)\n",
    "    thOp = softTO(taus_wt[j])\n",
    "#     print('WT (tau = {:.2f}):'.format(taus_wt[j]), end = ' ')    \n",
    "    Xrec=estimate(wt, thOp, mask, Xsub, n_steps=3*steps, Xorig = Xorig, X0 = Xrec)\n",
    "\n",
    "pltPic(Xrec)"
   ]
  },
  {
   "cell_type": "markdown",
   "metadata": {},
   "source": [
    "### Compare to original picture"
   ]
  },
  {
   "cell_type": "code",
   "execution_count": null,
   "metadata": {
    "collapsed": true
   },
   "outputs": [],
   "source": [
    "pltPic(Xorig)"
   ]
  },
  {
   "cell_type": "markdown",
   "metadata": {},
   "source": [
    "## Export images"
   ]
  },
  {
   "cell_type": "code",
   "execution_count": null,
   "metadata": {
    "collapsed": true
   },
   "outputs": [],
   "source": [
    "# make black pixels in the masked picture Xsub white\n",
    "Xsub2 = Xsub.copy()\n",
    "Xsub2[Xsub2==0.0] = Xsub2.max()\n",
    "\n",
    "imsave(\"./pics/marie_curie_masked.jpg\", Xsub2)\n",
    "imsave(\"./pics/marie_curie_rec.jpg\", Xrec)"
   ]
  },
  {
   "cell_type": "code",
   "execution_count": null,
   "metadata": {
    "collapsed": true
   },
   "outputs": [],
   "source": []
  }
 ],
 "metadata": {
  "kernelspec": {
   "display_name": "Python 3",
   "language": "python",
   "name": "python3"
  },
  "language_info": {
   "codemirror_mode": {
    "name": "ipython",
    "version": 3
   },
   "file_extension": ".py",
   "mimetype": "text/x-python",
   "name": "python",
   "nbconvert_exporter": "python",
   "pygments_lexer": "ipython3",
   "version": "3.6.1"
  }
 },
 "nbformat": 4,
 "nbformat_minor": 2
}
