{
 "cells": [
  {
   "cell_type": "markdown",
   "metadata": {},
   "source": [
    "## Reconstructing images from few pixels"
   ]
  },
  {
   "cell_type": "code",
   "execution_count": null,
   "metadata": {},
   "outputs": [],
   "source": [
    "from picIHT import *\n",
    "import scipy.ndimage as spimg\n",
    "import glob\n",
    "import os\n",
    "import myprofile\n",
    "\n",
    "### -----------------------------------------------\n",
    "### ---------- set image folder -------------------\n",
    "folder = \"/Users/Martin/Pictures/Camera Roll/\"\n",
    "### -----------------------------------------------\n",
    "\n",
    "\n",
    "# all jpg files in folder\n",
    "list_camera_pics = glob.glob(folder+'*.jpg') \n",
    "# file name of latest one\n",
    "latest_pic = max(list_camera_pics, key=os.path.getctime) \n",
    "#latest_pic = \"/Users/Martin/Pictures/Camera Roll/DSCN0926.JPG\"\n",
    "\n",
    "#read image\n",
    "Xorig = spimg.imread(latest_pic,flatten=True, mode='L')\n",
    "\n",
    "# decrease resolution to increase speed\n",
    "relative_resolution = 1\n",
    "X0 = spimg.zoom(Xorig, relative_resolution)\n",
    "\n",
    "# picture size\n",
    "shape = X0.shape\n",
    "n = np.prod(shape)\n",
    "\n",
    "# choose basis\n",
    "#L = 3\n",
    "#amp = np.linspace(1,1,L)\n",
    "#amp = np.kron(amp, np.ones(3) )\n",
    "#amp = np.insert(amp,0, 10 ) #prepend (position 0)\n",
    "                \n",
    "T = WT(shape, wavelet='db6',level=3, amplify=10)\n",
    "\n",
    "#T = DCT(shape)\n",
    "\n",
    "#check compressibility\n",
    "# estimated compressibility\n",
    "\n",
    "## hard TO\n",
    "s = int( np.prod(shape)/20 )\n",
    "TO = hardTO(s)\n",
    "## soft TO\n",
    "tau = 10\n",
    "#TO = softTO(tau)\n",
    "\n",
    "cX0 = compress(T,TO,X0)\n",
    "\n",
    "#X0=cX0\n",
    "#pltPic(X0)"
   ]
  },
  {
   "cell_type": "code",
   "execution_count": null,
   "metadata": {},
   "outputs": [],
   "source": [
    "# nr. of pixels to keep\n",
    "m = int(.20*n)\n",
    "\n",
    "# generate subsampled picture\n",
    "mask = getRandMask(n, m)\n",
    "Xsub = np.zeros(shape)\n",
    "Xsub.flat[mask] = X0.flat[mask]\n",
    "pltPic(Xsub)"
   ]
  },
  {
   "cell_type": "code",
   "execution_count": null,
   "metadata": {},
   "outputs": [],
   "source": [
    "sparsity_guess = int(.8*s)\n",
    "tau = 15\n",
    "#thOp = hardTO(sparsity_guess)\n",
    "thOp = softTO(tau)\n",
    "\n",
    "#with myprofile.Profiler(fname='profile.dat'):\n",
    "Xrec=estimate(T, thOp, mask, Xsub, n_steps=150, X0=X0)\n",
    "\n",
    "pltPic(Xrec)"
   ]
  },
  {
   "cell_type": "code",
   "execution_count": null,
   "metadata": {},
   "outputs": [],
   "source": [
    "pltPic(X0)"
   ]
  },
  {
   "cell_type": "code",
   "execution_count": null,
   "metadata": {},
   "outputs": [],
   "source": [
    "#tbd: add animation\n",
    "\n",
    "#first exercise\n",
    "import time\n",
    "plt.ion()\n",
    "x = np.linspace(-1,1,51)\n",
    "plt.plot(np.sin(x))\n",
    "for i in range(10):\n",
    "    plt.plot([np.sin(i+j) for j in x], animated=True)\n",
    "    # make it appear immediately\n",
    "    plt.draw()\n",
    "    time.sleep(1)"
   ]
  },
  {
   "cell_type": "code",
   "execution_count": null,
   "metadata": {
    "collapsed": true
   },
   "outputs": [],
   "source": []
  },
  {
   "cell_type": "markdown",
   "metadata": {},
   "source": [
    "# Reconstructing a random image"
   ]
  },
  {
   "cell_type": "code",
   "execution_count": null,
   "metadata": {
    "collapsed": true
   },
   "outputs": [],
   "source": [
    "# Create random picture\n",
    "shape = (600,800)\n",
    "T = DCT(shape)\n",
    "s = 20\n",
    "\n",
    "X0 = randomPic(T,s)\n",
    "pltPic(X0)\n",
    "\n",
    "n = np.prod(shape)\n",
    "m = int(n/20)\n",
    "\n",
    "mask = getRandMask(n, m)\n",
    "Xsub = np.zeros(shape)\n",
    "#measurement vector:\n",
    "Xsub.flat[mask] = X0.flat[mask]\n",
    "pltPic(Xsub)\n",
    "\n",
    "Xrec=estimate(T,s,mask,Xsub,n_steps=100, X0=X0)\n",
    "\n",
    "pltPic(Xrec)"
   ]
  },
  {
   "cell_type": "code",
   "execution_count": null,
   "metadata": {
    "collapsed": true
   },
   "outputs": [],
   "source": []
  }
 ],
 "metadata": {
  "kernelspec": {
   "display_name": "Python 3",
   "language": "python",
   "name": "python3"
  },
  "language_info": {
   "codemirror_mode": {
    "name": "ipython",
    "version": 3
   },
   "file_extension": ".py",
   "mimetype": "text/x-python",
   "name": "python",
   "nbconvert_exporter": "python",
   "pygments_lexer": "ipython3",
   "version": "3.6.1"
  }
 },
 "nbformat": 4,
 "nbformat_minor": 2
}
