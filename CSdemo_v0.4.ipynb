{
 "cells": [
  {
   "cell_type": "markdown",
   "metadata": {},
   "source": [
    "## Reconstructing images from few pixels"
   ]
  },
  {
   "cell_type": "code",
   "execution_count": null,
   "metadata": {},
   "outputs": [],
   "source": [
    "from pit import *\n",
    "import scipy.ndimage as spimg\n",
    "from scipy.misc import imsave\n",
    "import matplotlib.pyplot as plt\n",
    "import glob\n",
    "import os\n",
    "\n",
    "def rgb2gray(rgb):\n",
    "    '''Convert from rgb to grayscale'''\n",
    "    return np.dot(rgb[...,:3], [0.299, 0.587, 0.114])\n",
    "\n",
    "### ---------- set image folder -------------------\n",
    "folder = \"/Users/Martin/Pictures/Camera Roll/\"\n",
    "### -----------------------------------------------\n",
    "\n",
    "\n",
    "# all jpg files in folder\n",
    "list_camera_pics = glob.glob(folder+'*.jpg') \n",
    "# file name of latest one\n",
    "list_camera_pics=sorted(list_camera_pics, key=os.path.getctime) \n",
    "pic = list_camera_pics[-2] \n",
    "\n",
    "#read image\n",
    "# Xorig = spimg.imread(latest_pic,flatten=True, mode='L')\n",
    "Xorig = rgb2gray(plt.imread(pic))\n",
    "\n",
    "# # decrease resolution to increase speed\n",
    "# relative_resolution = .5\n",
    "# Xorig = spimg.zoom(Xorig, relative_resolution)\n",
    "\n",
    "# picture size\n",
    "shape = Xorig.shape\n",
    "n = np.prod(shape)\n",
    "\n",
    "# choose frame\n",
    "wlet = 'db12'\n",
    "# wlet = 'coif12'\n",
    "# wlet = 'sym12'\n",
    "# print(pywt.wavelist(kind='discrete'))\n",
    "L = 3 \n",
    "# amplification of lower level wavelet coefficients\n",
    "# (shows slightly better reconstruction performance)\n",
    "amp = np.linspace(1,.5,L)\n",
    "amp = np.kron(amp, np.ones(3) )\n",
    "amp = np.insert(amp,0, 12 ) #prepend (position 0)"
   ]
  },
  {
   "cell_type": "markdown",
   "metadata": {},
   "source": [
    "### A compression test"
   ]
  },
  {
   "cell_type": "code",
   "execution_count": null,
   "metadata": {},
   "outputs": [],
   "source": [
    "## (not necessary for the rest)\n",
    "# choose basis for compression\n",
    "T = WT(shape, wavelet=wlet,level=L, amplify=amp)\n",
    "\n",
    "# hard TO\n",
    "p = 0.03\n",
    "TO = hardTO( p*np.prod(shape) )\n",
    "\n",
    "# compression test\n",
    "cXorig = compress(T,TO,Xorig)\n",
    "\n",
    "print(\"Original image:\")\n",
    "pltPic(Xorig)\n",
    "\n",
    "print(\"Compressed image (down to {:0.1f}% coefficients of {}):\".format(100*p,n) )\n",
    "pltPic(cXorig)"
   ]
  },
  {
   "cell_type": "markdown",
   "metadata": {},
   "source": [
    "### Remove pixels"
   ]
  },
  {
   "cell_type": "code",
   "execution_count": null,
   "metadata": {},
   "outputs": [],
   "source": [
    "# set relative number of pixels\n",
    "p = .05\n",
    "\n",
    "# total number of pixels\n",
    "m = int(p*n)\n",
    "print(\"Total number of pixels: {}k\".format(int(np.prod(Xorig.shape)/1000)))\n",
    "print(\"Number of remaining pixels: {}k\".format( int(m/1000) ))\n",
    "\n",
    "# generate subsampled picture\n",
    "mask = getRandMask(n, m)\n",
    "Xsub = np.zeros(shape)\n",
    "Xsub.flat[mask] = Xorig.flat[mask]\n",
    "pltPic(Xsub)"
   ]
  },
  {
   "cell_type": "code",
   "execution_count": null,
   "metadata": {},
   "outputs": [],
   "source": [
    "# schedule for DCT and WT iterations\n",
    "steps_wt = 14\n",
    "steps_dct = 10 #parameter for nr. of steps in fixed basis\n",
    "N = 5 #nr. of switching bases: wt and dct\n",
    "\n",
    "# threshold values\n",
    "th_dct = 8\n",
    "th_wt = 12\n",
    "\n",
    "# set initial guess for the reconstruction\n",
    "if 'Xrec' not in locals():\n",
    "    Xrec = Xsub\n",
    "    \n",
    "Xrec = Xsub\n",
    "\n",
    "# set transformations\n",
    "dct = DCT(shape)\n",
    "wt = WT(shape, wavelet=wlet,level=L, amplify=amp)\n",
    "\n",
    "for j in range(N):\n",
    "    thOp = softTO(th_dct)\n",
    "    Xrec=FISTA(dct, thOp, mask, Xsub, stepsize = .75, n_steps=steps_dct, Xorig=Xorig, X0=Xrec)\n",
    "    \n",
    "    thOp = softTO(th_wt)\n",
    "    Xrec=FISTA(wt, thOp, mask, Xsub, stepsize = .75, n_steps=steps_wt, Xorig=Xorig, X0=Xrec)\n",
    "\n",
    "pltPic(Xrec)"
   ]
  },
  {
   "cell_type": "code",
   "execution_count": null,
   "metadata": {},
   "outputs": [],
   "source": [
    "pltPic(Xorig)"
   ]
  },
  {
   "cell_type": "code",
   "execution_count": null,
   "metadata": {},
   "outputs": [],
   "source": []
  },
  {
   "cell_type": "code",
   "execution_count": null,
   "metadata": {},
   "outputs": [],
   "source": []
  }
 ],
 "metadata": {
  "kernelspec": {
   "display_name": "Python 3",
   "language": "python",
   "name": "python3"
  },
  "language_info": {
   "codemirror_mode": {
    "name": "ipython",
    "version": 3
   },
   "file_extension": ".py",
   "mimetype": "text/x-python",
   "name": "python",
   "nbconvert_exporter": "python",
   "pygments_lexer": "ipython3",
   "version": "3.6.7"
  }
 },
 "nbformat": 4,
 "nbformat_minor": 2
}
