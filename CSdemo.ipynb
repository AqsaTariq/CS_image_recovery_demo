{
 "cells": [
  {
   "cell_type": "markdown",
   "metadata": {},
   "source": [
    "## Reconstructing images from few pixels"
   ]
  },
  {
   "cell_type": "code",
   "execution_count": null,
   "metadata": {
    "collapsed": true
   },
   "outputs": [],
   "source": [
    "from picIHT import *\n",
    "import scipy.ndimage as spimg\n",
    "import glob\n",
    "import os\n",
    "\n",
    "### -----------------------------------------------\n",
    "### ---------- set image folder -------------------\n",
    "folder = \"/Users/Martin/Pictures/Camera Roll/\"\n",
    "### -----------------------------------------------\n",
    "\n",
    "\n",
    "# all jpg files in folder\n",
    "list_camera_pics = glob.glob(folder+'*.jpg') \n",
    "# file name of latest one\n",
    "latest_pic = max(list_camera_pics, key=os.path.getctime) \n",
    "\n",
    "#read image\n",
    "Xorig = spimg.imread(latest_pic,flatten=True, mode='L')\n",
    "\n",
    "# decrease resolution to increase speed\n",
    "relative_resolution = 1\n",
    "X0 = spimg.zoom(Xorig, relative_resolution)\n",
    "\n",
    "# picture size\n",
    "shape = X0.shape\n",
    "n = np.prod(shape)\n",
    "\n",
    "# estimated compressibility\n",
    "s = int(np.prod(shape)/20)\n",
    "\n",
    "# choose basis\n",
    "T = DCT(shape)\n",
    "\n",
    "#check compressibility\n",
    "cX0 = compress(T,s,X0)\n",
    "\n",
    "#X0=cX0\n",
    "pltPic(X0)"
   ]
  },
  {
   "cell_type": "code",
   "execution_count": null,
   "metadata": {
    "collapsed": true
   },
   "outputs": [],
   "source": [
    "# nr. of pixels to keep\n",
    "m = int(n/5)\n",
    "\n",
    "# generate subsampled picture\n",
    "mask = getRandMask(n, m)\n",
    "Xsub = np.zeros(shape)\n",
    "Xsub.flat[mask] = X0.flat[mask]\n",
    "pltPic(Xsub)"
   ]
  },
  {
   "cell_type": "code",
   "execution_count": null,
   "metadata": {
    "collapsed": true
   },
   "outputs": [],
   "source": [
    "# estimate sparsity\n",
    "sparsity_guess = int(.8*s)\n",
    "\n",
    "Xrec=estimate(T, sparsity_guess, mask, Xsub, n_steps=100, stepsize=1, X0=X0)\n",
    "\n",
    "pltPic(Xrec)"
   ]
  },
  {
   "cell_type": "markdown",
   "metadata": {},
   "source": [
    "# Reconstructing a random image"
   ]
  },
  {
   "cell_type": "code",
   "execution_count": null,
   "metadata": {
    "collapsed": true
   },
   "outputs": [],
   "source": [
    "# Create random picture\n",
    "shape = (600,800)\n",
    "T = DCT(shape)\n",
    "s = 20\n",
    "\n",
    "X0 = randomPic(T,s)\n",
    "pltPic(X0)\n",
    "\n",
    "n = np.prod(shape)\n",
    "m = int(n/20)\n",
    "\n",
    "mask = getRandMask(n, m)\n",
    "Xsub = np.zeros(shape)\n",
    "#measurement vector:\n",
    "Xsub.flat[mask] = X0.flat[mask]\n",
    "pltPic(Xsub)\n",
    "\n",
    "Xrec=estimate(T,s,mask,Xsub,n_steps=100, X0=X0)\n",
    "\n",
    "pltPic(Xrec)"
   ]
  }
 ],
 "metadata": {
  "kernelspec": {
   "display_name": "Python 2",
   "language": "python",
   "name": "python2"
  },
  "language_info": {
   "codemirror_mode": {
    "name": "ipython",
    "version": 2
   },
   "file_extension": ".py",
   "mimetype": "text/x-python",
   "name": "python",
   "nbconvert_exporter": "python",
   "pygments_lexer": "ipython2",
   "version": "2.7.13"
  }
 },
 "nbformat": 4,
 "nbformat_minor": 2
}
