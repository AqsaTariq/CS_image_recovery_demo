{
 "cells": [
  {
   "cell_type": "markdown",
   "metadata": {},
   "source": [
    "##  Demonstration of compression "
   ]
  },
  {
   "cell_type": "code",
   "execution_count": null,
   "metadata": {
    "collapsed": true
   },
   "outputs": [],
   "source": [
    "from pit import *\n",
    "import scipy.ndimage as spimg\n",
    "import glob\n",
    "import os\n",
    "\n",
    "def comp(image, s):\n",
    "    '''Compress image to s coefficients'''\n",
    "    T = DCT( image.shape )\n",
    "#     T = WT(shape, wavelet='db2',level=2, amplify=10)\n",
    "    TO = hardTO(s)\n",
    "    \n",
    "    x = T(image)\n",
    "    x = TO(x) \n",
    "    return T.inv(x)"
   ]
  },
  {
   "cell_type": "code",
   "execution_count": null,
   "metadata": {},
   "outputs": [],
   "source": [
    "# load circle\n",
    "im0 = spimg.imread(\"./pics/circle.jpg\",flatten=True, mode='L')\n",
    "# im0 = spimg.zoom(im0, .04)\n",
    "\n",
    "# number of coeffcients\n",
    "anz = 20\n",
    "f, axarr = plt.subplots(anz, 2)\n",
    "f.set_size_inches(h=3*anz,w=6)\n",
    "\n",
    "axarr[0,1].imshow(im0, interpolation='nearest', cmap=plt.cm.gray)\n",
    "\n",
    "# calculate coefficients\n",
    "Im = [im0] + [comp(im0, s) for s in range(1,anz)]\n",
    "axarr[1,0].imshow(Im[1], interpolation='nearest', cmap=plt.cm.gray)#, vmin = 0, vmax = 300)\n",
    "\n",
    "# add coefficients to plot\n",
    "for s in range(2,anz):   \n",
    "    axarr[s,0].imshow(Im[s]-Im[s-1], interpolation='nearest', cmap=plt.cm.gray)\n",
    "\n",
    "for s in range(1,anz):\n",
    "    axarr[s,1].imshow(Im[s], interpolation='nearest', cmap=plt.cm.gray)\n",
    "\n",
    "print(\"Left: j-th coefficient in row j+1\")\n",
    "print(\"Right: sum of coefficients up to j in row j+1\")\n",
    "plt.show()"
   ]
  },
  {
   "cell_type": "code",
   "execution_count": null,
   "metadata": {
    "collapsed": true
   },
   "outputs": [],
   "source": []
  }
 ],
 "metadata": {
  "kernelspec": {
   "display_name": "Python 3",
   "language": "python",
   "name": "python3"
  },
  "language_info": {
   "codemirror_mode": {
    "name": "ipython",
    "version": 3
   },
   "file_extension": ".py",
   "mimetype": "text/x-python",
   "name": "python",
   "nbconvert_exporter": "python",
   "pygments_lexer": "ipython3",
   "version": "3.6.3"
  }
 },
 "nbformat": 4,
 "nbformat_minor": 2
}
